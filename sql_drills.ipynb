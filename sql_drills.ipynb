{
 "cells": [
  {
   "cell_type": "markdown",
   "metadata": {},
   "source": [
    "# 01-Cartesian Joins"
   ]
  },
  {
   "cell_type": "markdown",
   "metadata": {},
   "source": [
    "## Part 1\n",
    "250\n",
    "## Part 2\n",
    "The new table would have 12 rows with two columns. Each value in table_one would repeat three times while they are associated with each value in table_two."
   ]
  },
  {
   "cell_type": "markdown",
   "metadata": {},
   "source": [
    "# 02-Foreign Keys"
   ]
  },
  {
   "cell_type": "code",
   "execution_count": null,
   "metadata": {},
   "outputs": [],
   "source": [
    "CREATE TABLE departments (\n",
    "    id INT NOT NULL,\n",
    "    dept_name VARCHAR(30) NOT NULL    \n",
    ");\n",
    "\n",
    "CREATE TABLE employees (\n",
    "    employee_id INT NOT NULL,\n",
    "    first_name VARCHAR(30) NOT NULL,\n",
    "    last_name VARCHAR(30) NOT NULL,\n",
    "    department_id INT NOT NULL\n",
    ");\n",
    "    "
   ]
  },
  {
   "cell_type": "markdown",
   "metadata": {},
   "source": [
    "# 03-ACID"
   ]
  },
  {
   "cell_type": "markdown",
   "metadata": {},
   "source": [
    "Definitions from https://www.essentialsql.com/sql-acid-database-properties-explained/\n",
    "\n",
    "- **Atomic**\n",
    "\n",
    "\"Transaction acting on several pieces of information complete only if all pieces successfully save. Here, “all or nothing” applies to the transaction.\"\n",
    "\n",
    "**Example**: A subquery must be successful for the entire query to work.)\n",
    "- **Consistent**\n",
    "\n",
    "\"The saved data cannot violate the integrity of the database. Interrupted modifications are rolled back to ensure the database is in a state before the change takes place.\"\n",
    "\n",
    "**Example**: If you try to add multiple primary keys and foreign keys that violate a constraint then the change to the database won't work. \n",
    "- Isolation\n",
    "\n",
    "\"No other transactions take place and affect the transaction in question. This prevents “mid-air collisions.”\"\n",
    "\n",
    "**Example**: Other changes to the database won't affect your change.\n",
    "- Durability\n",
    "\n",
    "\"System failures or restarts do not affect committed transactions.\"\n",
    "\n",
    "**Example**: Data inside of a database won't be lost from a power outage. "
   ]
  },
  {
   "cell_type": "markdown",
   "metadata": {},
   "source": [
    "# 04-Case"
   ]
  },
  {
   "cell_type": "code",
   "execution_count": null,
   "metadata": {},
   "outputs": [],
   "source": [
    "UPDATE animal \n",
    "SET species = 'mouse'\n",
    "WHERE id = 1;\n",
    "\n",
    "UPDATE animal \n",
    "SET species = 'mouse'\n",
    "WHERE id = 2;\n",
    "\n",
    "UPDATE animal \n",
    "SET species = 'duck'\n",
    "WHERE id = 3;"
   ]
  },
  {
   "cell_type": "markdown",
   "metadata": {},
   "source": [
    "# 05-Index"
   ]
  },
  {
   "cell_type": "markdown",
   "metadata": {},
   "source": [
    "## Part 1\n",
    "\"An index is a separated data structure e.g., B-Tree that speeds up the data retrieval on a table at the cost of additional writes and storage to maintain it.\" \n",
    "https://www.postgresqltutorial.com/postgresql-indexes/postgresql-create-index/\n",
    "\n",
    "\"Indexes are special lookup tables that the database search engine can use to speed up data retrieval. Simply put, an index is a pointer to data in a table. An index in a database is very similar to an index in the back of a book.\"\n",
    "https://www.tutorialspoint.com/postgresql/postgresql_indexes.htm\n",
    "\n",
    "## Part 2\n",
    "B-tree, Hash, GiST, SP-GiST and GIN"
   ]
  }
 ],
 "metadata": {
  "kernelspec": {
   "display_name": "Python 3",
   "language": "python",
   "name": "python3"
  },
  "language_info": {
   "codemirror_mode": {
    "name": "ipython",
    "version": 3
   },
   "file_extension": ".py",
   "mimetype": "text/x-python",
   "name": "python",
   "nbconvert_exporter": "python",
   "pygments_lexer": "ipython3",
   "version": "3.8.3"
  }
 },
 "nbformat": 4,
 "nbformat_minor": 4
}
